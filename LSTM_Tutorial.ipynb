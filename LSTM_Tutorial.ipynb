{
 "cells": [
  {
   "cell_type": "markdown",
   "metadata": {
    "deletable": true,
    "editable": true
   },
   "source": [
    "# LSTM Example\n",
    "\n",
    "In this tutorial, we will create a simple recurrent neural network that utilizes Long Short-Term Memory to learn a pattern from sequential data. We will use a dataset that records airline traffic volume per month for a period of several years. \n",
    "\n",
    "This example is heavily based on [this excellent tutorial](http://machinelearningmastery.com/time-series-prediction-lstm-recurrent-neural-networks-python-keras/) by Jason Brownlee. \n",
    "\n",
    "## Step 1: Import dependencies"
   ]
  },
  {
   "cell_type": "code",
   "execution_count": 1,
   "metadata": {
    "collapsed": false,
    "deletable": true,
    "editable": true
   },
   "outputs": [
    {
     "name": "stderr",
     "output_type": "stream",
     "text": [
      "Using TensorFlow backend.\n"
     ]
    }
   ],
   "source": [
    "import numpy as np\n",
    "import matplotlib.pyplot as plt\n",
    "import pandas as pd\n",
    "\n",
    "from keras.models import Sequential\n",
    "from keras.layers import Dense\n",
    "from keras.layers import LSTM\n",
    "from sklearn.preprocessing import MinMaxScaler\n",
    "from sklearn.metrics import mean_squared_error"
   ]
  },
  {
   "cell_type": "markdown",
   "metadata": {
    "deletable": true,
    "editable": true
   },
   "source": [
    "It is generally a good idea to control the random seed for a program that depends on pseudorandom choices for repeatability. "
   ]
  },
  {
   "cell_type": "code",
   "execution_count": 2,
   "metadata": {
    "collapsed": false,
    "deletable": true,
    "editable": true
   },
   "outputs": [],
   "source": [
    "np.random.seed(7)"
   ]
  },
  {
   "cell_type": "markdown",
   "metadata": {
    "collapsed": true,
    "deletable": true,
    "editable": true
   },
   "source": [
    "## Step 2: Import dataset and manipulate data\n",
    "I have already downloaded the dataset to the file \"international-airline-passengers.csv\". Below is a sample of what this dataset looks like."
   ]
  },
  {
   "cell_type": "code",
   "execution_count": 3,
   "metadata": {
    "collapsed": false,
    "deletable": true,
    "editable": true
   },
   "outputs": [
    {
     "name": "stdout",
     "output_type": "stream",
     "text": [
      "\"Month\",\"International airline passengers: monthly totals in thousands. Jan 49 ? Dec 60\"\r",
      "\r\n",
      "\"1949-01\",112\r",
      "\r\n",
      "\"1949-02\",118\r",
      "\r\n",
      "\"1949-03\",132\r",
      "\r\n",
      "\"1949-04\",129\r",
      "\r\n",
      "\"1949-05\",121\r",
      "\r\n",
      "\"1949-06\",135\r",
      "\r\n",
      "\"1949-07\",148\r",
      "\r\n",
      "\"1949-08\",148\r",
      "\r\n",
      "\"1949-09\",136\r",
      "\r\n"
     ]
    }
   ],
   "source": [
    "!head /Users/f002bpv/Documents/classes/17w/engg177/lstm_tutorial/international-airline-passengers.csv"
   ]
  },
  {
   "cell_type": "markdown",
   "metadata": {
    "deletable": true,
    "editable": true
   },
   "source": [
    "The data also include a footer at its end, which we will need to remove in processing."
   ]
  },
  {
   "cell_type": "code",
   "execution_count": 4,
   "metadata": {
    "collapsed": false,
    "deletable": true,
    "editable": true
   },
   "outputs": [
    {
     "name": "stdout",
     "output_type": "stream",
     "text": [
      "\"1960-06\",535\r",
      "\r\n",
      "\"1960-07\",622\r",
      "\r\n",
      "\"1960-08\",606\r",
      "\r\n",
      "\"1960-09\",508\r",
      "\r\n",
      "\"1960-10\",461\r",
      "\r\n",
      "\"1960-11\",390\r",
      "\r\n",
      "\"1960-12\",432\r",
      "\r\n",
      "\r",
      "\r\n",
      "International airline passengers: monthly totals in thousands. Jan 49 ? Dec 60\r",
      "\r\n",
      "\r",
      "\r\n"
     ]
    }
   ],
   "source": [
    "!tail /Users/f002bpv/Documents/classes/17w/engg177/lstm_tutorial/international-airline-passengers.csv"
   ]
  },
  {
   "cell_type": "markdown",
   "metadata": {
    "deletable": true,
    "editable": true
   },
   "source": [
    "We'll use pandas, a data management tool for python in the style of R, to read in the data and manipulate it. We will only select the second column, and remember to drop the last 3 lines."
   ]
  },
  {
   "cell_type": "code",
   "execution_count": 5,
   "metadata": {
    "collapsed": true,
    "deletable": true,
    "editable": true
   },
   "outputs": [],
   "source": [
    "df = pd.read_csv(\"/Users/f002bpv/Documents/classes/17w/engg177/lstm_tutorial/international-airline-passengers.csv\",\n",
    "                usecols=[1], engine='python', skipfooter=3)\n",
    "dataset = df.values.astype('float32')"
   ]
  },
  {
   "cell_type": "markdown",
   "metadata": {
    "collapsed": true,
    "deletable": true,
    "editable": true
   },
   "source": [
    "Let's see what the data looks like."
   ]
  },
  {
   "cell_type": "code",
   "execution_count": 6,
   "metadata": {
    "collapsed": false,
    "deletable": true,
    "editable": true
   },
   "outputs": [
    {
     "data": {
      "image/png": "[encoded data removed]",
      "text/plain": [
       "<matplotlib.figure.Figure at 0x117796a50>"
      ]
     },
     "metadata": {},
     "output_type": "display_data"
    }
   ],
   "source": [
    "plt.plot(dataset)\n",
    "plt.show()"
   ]
  },
  {
   "cell_type": "markdown",
   "metadata": {
    "collapsed": true,
    "deletable": true,
    "editable": true
   },
   "source": [
    "The data gradually trends upwards, due to the increase in air travel popularity and availability during its timeframe. It also seems to be roughly periodic by year. \n",
    "\n",
    "We will need to normalize this data in order to apply an LSTM RNN. This is because LSTMs are much more sensitive to data scale than flat NNs. The gradients of the lookback nodes can grow or shrink very rapidly during the backpropagation execution. We will normalize this data to (0,1) using a module from scikit-learn, a common toolkit for machine learning."
   ]
  },
  {
   "cell_type": "code",
   "execution_count": 7,
   "metadata": {
    "collapsed": true,
    "deletable": true,
    "editable": true
   },
   "outputs": [],
   "source": [
    "scaler = MinMaxScaler(feature_range=(0, 1))\n",
    "dataset = scaler.fit_transform(dataset)"
   ]
  },
  {
   "cell_type": "markdown",
   "metadata": {
    "deletable": true,
    "editable": true
   },
   "source": [
    "As a sanity check, let's see what the dataset looks like now:"
   ]
  },
  {
   "cell_type": "code",
   "execution_count": 8,
   "metadata": {
    "collapsed": false,
    "deletable": true,
    "editable": true
   },
   "outputs": [
    {
     "data": {
      "image/png": "[encoded data removed]",
      "text/plain": [
       "<matplotlib.figure.Figure at 0x117a9e7d0>"
      ]
     },
     "metadata": {},
     "output_type": "display_data"
    }
   ],
   "source": [
    "plt.plot(dataset)\n",
    "plt.show()"
   ]
  },
  {
   "cell_type": "markdown",
   "metadata": {
    "deletable": true,
    "editable": true
   },
   "source": [
    "As with any other machine learning program, we need to split the data into training and testing sets. Since this data is sequential, we will train on the first two thirds and test on the final third."
   ]
  },
  {
   "cell_type": "code",
   "execution_count": 9,
   "metadata": {
    "collapsed": false,
    "deletable": true,
    "editable": true
   },
   "outputs": [
    {
     "name": "stdout",
     "output_type": "stream",
     "text": [
      "# train samples: 96\n",
      "# test samples: 48\n"
     ]
    }
   ],
   "source": [
    "train_size = int(len(dataset) * 0.67)\n",
    "test_size = len(dataset) - train_size\n",
    "train, test = dataset[0:train_size,:], dataset[train_size:len(dataset),:]\n",
    "print(\"# train samples: %d\\n# test samples: %d\" %(len(train), len(test)))"
   ]
  },
  {
   "cell_type": "markdown",
   "metadata": {
    "deletable": true,
    "editable": true
   },
   "source": [
    "Finally, we need to modify the dataset so that observations include inputs from past time steps in the time series. We'll create a simple function for this, so that we can modify the number of past time steps considered (the *lookback*)"
   ]
  },
  {
   "cell_type": "code",
   "execution_count": 10,
   "metadata": {
    "collapsed": true,
    "deletable": true,
    "editable": true
   },
   "outputs": [],
   "source": [
    "def create_dataset(dataset, look_back=1):\n",
    "    dataX, dataY = [], []\n",
    "    for i in range(len(dataset)-look_back-1):\n",
    "        a = dataset[i:(i+look_back), 0]\n",
    "        dataX.append(a)\n",
    "        dataY.append(dataset[i + look_back, 0])\n",
    "    return np.array(dataX), np.array(dataY)"
   ]
  },
  {
   "cell_type": "markdown",
   "metadata": {
    "deletable": true,
    "editable": true
   },
   "source": [
    "We now create the dataset up to specifications. We will use a lookback=3 for this example."
   ]
  },
  {
   "cell_type": "code",
   "execution_count": 11,
   "metadata": {
    "collapsed": false,
    "deletable": true,
    "editable": true
   },
   "outputs": [],
   "source": [
    "look_back = 3\n",
    "trainX, trainY = create_dataset(train, look_back)\n",
    "testX, testY = create_dataset(test, look_back)"
   ]
  },
  {
   "cell_type": "markdown",
   "metadata": {
    "deletable": true,
    "editable": true
   },
   "source": [
    "We now create the appropriate datasets from the train and test sets. Since the data is time series data, we need to phrase the data as a tensor with dimensions (samples, time steps, features)."
   ]
  },
  {
   "cell_type": "code",
   "execution_count": 12,
   "metadata": {
    "collapsed": false,
    "deletable": true,
    "editable": true
   },
   "outputs": [],
   "source": [
    "trainX = np.reshape(trainX, (trainX.shape[0], trainX.shape[1], 1))\n",
    "testX = np.reshape(testX, (testX.shape[0], testX.shape[1], 1))"
   ]
  },
  {
   "cell_type": "markdown",
   "metadata": {
    "deletable": true,
    "editable": true
   },
   "source": [
    "## Step 3: Define and train the network\n",
    "We'll use Keras to define a simple LSTM neural network. We'll use a simple array of four hidden LSTM neurons (each of whom accepts *look_back* inputs) and feed that into a single sigmoidally activated node. "
   ]
  },
  {
   "cell_type": "code",
   "execution_count": 13,
   "metadata": {
    "collapsed": false,
    "deletable": true,
    "editable": true
   },
   "outputs": [],
   "source": [
    "model = Sequential()\n",
    "model.add(LSTM(4, input_dim=1, activation=\"tanh\"))\n",
    "model.add(Dense(1, activation=None))\n",
    "model.compile(loss='mean_squared_error', optimizer='adam')"
   ]
  },
  {
   "cell_type": "markdown",
   "metadata": {
    "deletable": true,
    "editable": true
   },
   "source": [
    "Now we will train the model using trainX and trainY."
   ]
  },
  {
   "cell_type": "code",
   "execution_count": 14,
   "metadata": {
    "collapsed": false,
    "deletable": true,
    "editable": true
   },
   "outputs": [
    {
     "name": "stdout",
     "output_type": "stream",
     "text": [
      "Epoch 1/100\n",
      "2s - loss: 0.0162\n",
      "Epoch 2/100\n",
      "1s - loss: 0.0079\n",
      "Epoch 3/100\n",
      "1s - loss: 0.0070\n",
      "Epoch 4/100\n",
      "1s - loss: 0.0061\n",
      "Epoch 5/100\n",
      "1s - loss: 0.0053\n",
      "Epoch 6/100\n",
      "1s - loss: 0.0047\n",
      "Epoch 7/100\n",
      "1s - loss: 0.0043\n",
      "Epoch 8/100\n",
      "1s - loss: 0.0042\n",
      "Epoch 9/100\n",
      "1s - loss: 0.0039\n",
      "Epoch 10/100\n",
      "1s - loss: 0.0039\n",
      "Epoch 11/100\n",
      "1s - loss: 0.0039\n",
      "Epoch 12/100\n",
      "1s - loss: 0.0037\n",
      "Epoch 13/100\n",
      "1s - loss: 0.0037\n",
      "Epoch 14/100\n",
      "1s - loss: 0.0037\n",
      "Epoch 15/100\n",
      "1s - loss: 0.0037\n",
      "Epoch 16/100\n",
      "1s - loss: 0.0036\n",
      "Epoch 17/100\n",
      "1s - loss: 0.0035\n",
      "Epoch 18/100\n",
      "1s - loss: 0.0037\n",
      "Epoch 19/100\n",
      "1s - loss: 0.0038\n",
      "Epoch 20/100\n",
      "1s - loss: 0.0038\n",
      "Epoch 21/100\n",
      "1s - loss: 0.0035\n",
      "Epoch 22/100\n",
      "1s - loss: 0.0036\n",
      "Epoch 23/100\n",
      "1s - loss: 0.0036\n",
      "Epoch 24/100\n",
      "1s - loss: 0.0036\n",
      "Epoch 25/100\n",
      "1s - loss: 0.0036\n",
      "Epoch 26/100\n",
      "1s - loss: 0.0036\n",
      "Epoch 27/100\n",
      "1s - loss: 0.0036\n",
      "Epoch 28/100\n",
      "1s - loss: 0.0036\n",
      "Epoch 29/100\n",
      "1s - loss: 0.0035\n",
      "Epoch 30/100\n",
      "1s - loss: 0.0036\n",
      "Epoch 31/100\n",
      "1s - loss: 0.0035\n",
      "Epoch 32/100\n",
      "1s - loss: 0.0035\n",
      "Epoch 33/100\n",
      "1s - loss: 0.0035\n",
      "Epoch 34/100\n",
      "1s - loss: 0.0034\n",
      "Epoch 35/100\n",
      "1s - loss: 0.0037\n",
      "Epoch 36/100\n",
      "1s - loss: 0.0035\n",
      "Epoch 37/100\n",
      "1s - loss: 0.0034\n",
      "Epoch 38/100\n",
      "1s - loss: 0.0034\n",
      "Epoch 39/100\n",
      "1s - loss: 0.0035\n",
      "Epoch 40/100\n",
      "1s - loss: 0.0034\n",
      "Epoch 41/100\n",
      "1s - loss: 0.0034\n",
      "Epoch 42/100\n",
      "1s - loss: 0.0034\n",
      "Epoch 43/100\n",
      "1s - loss: 0.0033\n",
      "Epoch 44/100\n",
      "1s - loss: 0.0033\n",
      "Epoch 45/100\n",
      "1s - loss: 0.0034\n",
      "Epoch 46/100\n",
      "1s - loss: 0.0033\n",
      "Epoch 47/100\n",
      "1s - loss: 0.0034\n",
      "Epoch 48/100\n",
      "1s - loss: 0.0033\n",
      "Epoch 49/100\n",
      "1s - loss: 0.0033\n",
      "Epoch 50/100\n",
      "1s - loss: 0.0033\n",
      "Epoch 51/100\n",
      "1s - loss: 0.0033\n",
      "Epoch 52/100\n",
      "1s - loss: 0.0033\n",
      "Epoch 53/100\n",
      "1s - loss: 0.0032\n",
      "Epoch 54/100\n",
      "1s - loss: 0.0033\n",
      "Epoch 55/100\n",
      "1s - loss: 0.0032\n",
      "Epoch 56/100\n",
      "1s - loss: 0.0035\n",
      "Epoch 57/100\n",
      "1s - loss: 0.0032\n",
      "Epoch 58/100\n",
      "1s - loss: 0.0032\n",
      "Epoch 59/100\n",
      "1s - loss: 0.0032\n",
      "Epoch 60/100\n",
      "1s - loss: 0.0031\n",
      "Epoch 61/100\n",
      "1s - loss: 0.0032\n",
      "Epoch 62/100\n",
      "1s - loss: 0.0032\n",
      "Epoch 63/100\n",
      "1s - loss: 0.0032\n",
      "Epoch 64/100\n",
      "1s - loss: 0.0032\n",
      "Epoch 65/100\n",
      "1s - loss: 0.0030\n",
      "Epoch 66/100\n",
      "1s - loss: 0.0031\n",
      "Epoch 67/100\n",
      "1s - loss: 0.0032\n",
      "Epoch 68/100\n",
      "1s - loss: 0.0031\n",
      "Epoch 69/100\n",
      "1s - loss: 0.0031\n",
      "Epoch 70/100\n",
      "1s - loss: 0.0031\n",
      "Epoch 71/100\n",
      "1s - loss: 0.0031\n",
      "Epoch 72/100\n",
      "1s - loss: 0.0031\n",
      "Epoch 73/100\n",
      "1s - loss: 0.0030\n",
      "Epoch 74/100\n",
      "1s - loss: 0.0030\n",
      "Epoch 75/100\n",
      "1s - loss: 0.0031\n",
      "Epoch 76/100\n",
      "1s - loss: 0.0032\n",
      "Epoch 77/100\n",
      "1s - loss: 0.0030\n",
      "Epoch 78/100\n",
      "1s - loss: 0.0031\n",
      "Epoch 79/100\n",
      "1s - loss: 0.0030\n",
      "Epoch 80/100\n",
      "1s - loss: 0.0030\n",
      "Epoch 81/100\n",
      "1s - loss: 0.0030\n",
      "Epoch 82/100\n",
      "1s - loss: 0.0029\n",
      "Epoch 83/100\n",
      "1s - loss: 0.0029\n",
      "Epoch 84/100\n",
      "1s - loss: 0.0029\n",
      "Epoch 85/100\n",
      "1s - loss: 0.0029\n",
      "Epoch 86/100\n",
      "1s - loss: 0.0029\n",
      "Epoch 87/100\n",
      "1s - loss: 0.0030\n",
      "Epoch 88/100\n",
      "1s - loss: 0.0028\n",
      "Epoch 89/100\n",
      "1s - loss: 0.0029\n",
      "Epoch 90/100\n",
      "1s - loss: 0.0028\n",
      "Epoch 91/100\n",
      "1s - loss: 0.0028\n",
      "Epoch 92/100\n",
      "1s - loss: 0.0028\n",
      "Epoch 93/100\n",
      "1s - loss: 0.0029\n",
      "Epoch 94/100\n",
      "1s - loss: 0.0028\n",
      "Epoch 95/100\n",
      "1s - loss: 0.0027\n",
      "Epoch 96/100\n",
      "1s - loss: 0.0028\n",
      "Epoch 97/100\n",
      "1s - loss: 0.0027\n",
      "Epoch 98/100\n",
      "1s - loss: 0.0026\n",
      "Epoch 99/100\n",
      "1s - loss: 0.0027\n",
      "Epoch 100/100\n",
      "1s - loss: 0.0026\n"
     ]
    },
    {
     "data": {
      "text/plain": [
       "<keras.callbacks.History at 0x118e70810>"
      ]
     },
     "execution_count": 14,
     "metadata": {},
     "output_type": "execute_result"
    }
   ],
   "source": [
    "model.fit(trainX, trainY, nb_epoch=100, batch_size=1, verbose=2)"
   ]
  },
  {
   "cell_type": "markdown",
   "metadata": {
    "deletable": true,
    "editable": true
   },
   "source": [
    "## Step 4: Evaluate performance\n",
    "Now that the model is trained, let's examine its performance. We can compute the predicted values on the training and testing sets. "
   ]
  },
  {
   "cell_type": "code",
   "execution_count": 15,
   "metadata": {
    "collapsed": true,
    "deletable": true,
    "editable": true
   },
   "outputs": [],
   "source": [
    "trainPredict = model.predict(trainX)\n",
    "testPredict = model.predict(testX)"
   ]
  },
  {
   "cell_type": "markdown",
   "metadata": {
    "deletable": true,
    "editable": true
   },
   "source": [
    "We should remember that we normalized the functions, so we'll need to invert them back to their original scaling. "
   ]
  },
  {
   "cell_type": "code",
   "execution_count": 16,
   "metadata": {
    "collapsed": false,
    "deletable": true,
    "editable": true
   },
   "outputs": [],
   "source": [
    "trP = scaler.inverse_transform(trainPredict)\n",
    "trY = scaler.inverse_transform([trainY])\n",
    "teP = scaler.inverse_transform(testPredict)\n",
    "teY = scaler.inverse_transform([testY])"
   ]
  },
  {
   "cell_type": "markdown",
   "metadata": {
    "collapsed": false,
    "deletable": true,
    "editable": true
   },
   "source": [
    "We can examine the train/test performance by simply evaluating the mean squared error."
   ]
  },
  {
   "cell_type": "code",
   "execution_count": 17,
   "metadata": {
    "collapsed": false,
    "deletable": true,
    "editable": true
   },
   "outputs": [],
   "source": [
    "trainScore = np.sqrt(mean_squared_error(trY[0], trP[:,0]))\n",
    "testScore = np.sqrt(mean_squared_error(teY[0], teP[:,0]))"
   ]
  },
  {
   "cell_type": "code",
   "execution_count": 18,
   "metadata": {
    "collapsed": false,
    "deletable": true,
    "editable": true
   },
   "outputs": [
    {
     "name": "stdout",
     "output_type": "stream",
     "text": [
      "Train Score: 26.87 RMSE\n",
      "Test Score: 69.59 RMSE\n"
     ]
    }
   ],
   "source": [
    "print('Train Score: %.2f RMSE\\nTest Score: %.2f RMSE' % (trainScore, testScore))"
   ]
  },
  {
   "cell_type": "markdown",
   "metadata": {
    "deletable": true,
    "editable": true
   },
   "source": [
    "Since the taget values are scalar, we can also plot the model's predictions and visually analyze the model's performance versus the ground truth. "
   ]
  },
  {
   "cell_type": "code",
   "execution_count": 19,
   "metadata": {
    "collapsed": false,
    "deletable": true,
    "editable": true
   },
   "outputs": [
    {
     "data": {
      "image/png": "[encoded data removed]",
      "text/plain": [
       "<matplotlib.figure.Figure at 0x11a58a890>"
      ]
     },
     "metadata": {},
     "output_type": "display_data"
    }
   ],
   "source": [
    "# shift train predictions for plotting\n",
    "trainPredictPlot = np.empty_like(dataset)\n",
    "trainPredictPlot[:, :] = np.nan\n",
    "trainPredictPlot[look_back:len(trainPredict)+look_back, :] = trP\n",
    "# shift test predictions for plotting\n",
    "testPredictPlot = np.empty_like(dataset)\n",
    "testPredictPlot[:, :] = np.nan\n",
    "testPredictPlot[len(trainPredict)+(look_back*2)+1:len(dataset)-1, :] = teP\n",
    "# plot baseline and predictions\n",
    "plt.plot(scaler.inverse_transform(dataset))\n",
    "plt.plot(trainPredictPlot)\n",
    "plt.plot(testPredictPlot)\n",
    "plt.show()"
   ]
  },
  {
   "cell_type": "code",
   "execution_count": null,
   "metadata": {
    "collapsed": true,
    "deletable": true,
    "editable": true
   },
   "outputs": [],
   "source": []
  }
 ],
 "metadata": {
  "kernelspec": {
   "display_name": "Keras Kernel (Python 2)",
   "language": "python",
   "name": "keras_kernel"
  },
  "language_info": {
   "codemirror_mode": {
    "name": "ipython",
    "version": 2
   },
   "file_extension": ".py",
   "mimetype": "text/x-python",
   "name": "python",
   "nbconvert_exporter": "python",
   "pygments_lexer": "ipython2",
   "version": "2.7.10"
  }
 },
 "nbformat": 4,
 "nbformat_minor": 0
}
